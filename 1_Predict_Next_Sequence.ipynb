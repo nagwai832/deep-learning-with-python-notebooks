{
  "nbformat": 4,
  "nbformat_minor": 0,
  "metadata": {
    "colab": {
      "name": "1. Predict Next Sequence",
      "provenance": [],
      "authorship_tag": "ABX9TyNK27L8r5n1QgNpAw6HwmAI",
      "include_colab_link": true
    },
    "kernelspec": {
      "name": "python3",
      "display_name": "Python 3"
    }
  },
  "cells": [
    {
      "cell_type": "markdown",
      "metadata": {
        "id": "view-in-github",
        "colab_type": "text"
      },
      "source": [
        "<a href=\"https://colab.research.google.com/github/nagwai832/deep-learning-with-python-notebooks/blob/master/1_Predict_Next_Sequence.ipynb\" target=\"_parent\"><img src=\"https://colab.research.google.com/assets/colab-badge.svg\" alt=\"Open In Colab\"/></a>"
      ]
    },
    {
      "cell_type": "markdown",
      "metadata": {
        "id": "9wZWdSd3hV30"
      },
      "source": [
        "Deep Learning Project Idea –\r\n",
        " \r\n",
        "To start with deep learning, the very basic project that you can build is to predict the next digit in a sequence. Create a sequence like a list of odd numbers and then build a model and train it to predict the next digit in the sequence. A simple neural network with 2 layers would be sufficient to build the model."
      ]
    },
    {
      "cell_type": "code",
      "metadata": {
        "id": "4gG4qd0chHDj"
      },
      "source": [
        ""
      ],
      "execution_count": null,
      "outputs": []
    }
  ]
}